{
 "cells": [
  {
   "cell_type": "code",
   "execution_count": null,
   "metadata": {},
   "outputs": [],
   "source": [
    "import camelot\n",
    "import pandas as pd\n",
    "import PyPDF2"
   ]
  },
  {
   "cell_type": "code",
   "execution_count": null,
   "metadata": {},
   "outputs": [],
   "source": [
    "def extract_text(pdf_name):\n",
    "\n",
    "    pdfFileObj = open(pdf_name, 'rb')\n",
    "    pdfReader = PyPDF2.PdfFileReader(pdfFileObj)\n",
    "    \n",
    "    return pdfReader"
   ]
  },
  {
   "cell_type": "code",
   "execution_count": null,
   "metadata": {},
   "outputs": [],
   "source": [
    "def get_table(pdf_file, pdf_page):\n",
    "\n",
    "    tables = camelot.read_pdf(pdf_file, flavor='lattice', pages=str(pdf_page))\n",
    "    \n",
    "    return tables"
   ]
  },
  {
   "cell_type": "code",
   "execution_count": null,
   "metadata": {},
   "outputs": [],
   "source": [
    "file = r'C:\\Users\\jcoet\\Projects\\pdf_extract\\table_from_pdf_extract\\pdf_file\\18ceereport_amended.pdf'"
   ]
  },
  {
   "cell_type": "code",
   "execution_count": null,
   "metadata": {},
   "outputs": [],
   "source": [
    "for page in range(0, extract_text(file).numPages):\n",
    "    \n",
    "    for table in range(0, len(get_table(file, page))):\n",
    "        \n",
    "        tables = get_table(file, page)\n",
    "        table_name = str(page)\n",
    "        \n",
    "        if len(tables) == 1:\n",
    "            tables[0].to_csv('table_from_page_%s.csv' %str(table_name))\n",
    "            \n",
    "        elif len(tables) == 2:\n",
    "            tables[0].to_csv('table_from_page_%s' %str(table_name) + '.1.csv')\n",
    "            tables[1].to_csv('table_from_page_%s' %str(table_name) + '.2.csv')\n",
    "            \n",
    "        elif len(tables) == 3:\n",
    "            tables[0].to_csv('table_from_page_%s' %str(table_name) + '.1.csv')\n",
    "            tables[1].to_csv('table_from_page_%s' %str(table_name) + '.2.csv')\n",
    "            tables[2].to_csv('table_from_page_%s' %str(table_name) + '.3.csv')\n",
    "            \n",
    "        elif len(tables) == 4:\n",
    "            tables[0].to_csv('table_from_page_%s' %str(table_name) + '.1.csv')\n",
    "            tables[1].to_csv('table_from_page_%s' %str(table_name) + '.2.csv')\n",
    "            tables[2].to_csv('table_from_page_%s' %str(table_name) + '.3.csv')\n",
    "            tables[3].to_csv('table_from_page_%s' %str(table_name) + '.4.csv')"
   ]
  },
  {
   "cell_type": "code",
   "execution_count": null,
   "metadata": {},
   "outputs": [],
   "source": []
  },
  {
   "cell_type": "code",
   "execution_count": null,
   "metadata": {},
   "outputs": [],
   "source": []
  }
 ],
 "metadata": {
  "kernelspec": {
   "display_name": "Python 3",
   "language": "python",
   "name": "python3"
  },
  "language_info": {
   "codemirror_mode": {
    "name": "ipython",
    "version": 3
   },
   "file_extension": ".py",
   "mimetype": "text/x-python",
   "name": "python",
   "nbconvert_exporter": "python",
   "pygments_lexer": "ipython3",
   "version": "3.6.6"
  }
 },
 "nbformat": 4,
 "nbformat_minor": 2
}
